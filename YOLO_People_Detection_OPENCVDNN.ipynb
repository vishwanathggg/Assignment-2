{
  "cells": [
    {
      "cell_type": "code",
      "execution_count": null,
      "metadata": {
        "colab": {
          "base_uri": "https://localhost:8080/"
        },
        "id": "KON6j-RXIGXd",
        "outputId": "363753f1-b516-40f5-887e-ab1433862d25"
      },
      "outputs": [
        {
          "ename": "",
          "evalue": "",
          "output_type": "error",
          "traceback": [
            "\u001b[1;31mRunning cells with 'c:\\visual code\\c\\.vscode\\.conda\\python.exe' requires the ipykernel package.\n",
            "\u001b[1;31mRun the following command to install 'ipykernel' into the Python environment. \n",
            "\u001b[1;31mCommand: 'conda install -p c:\\visual code\\c\\.vscode\\.conda ipykernel --update-deps --force-reinstall'"
          ]
        }
      ],
      "source": [
        "!gdown https://github.com/AlexeyAB/darknet/releases/download/darknet_yolo_v3_optimal/yolov4.weights  ## yolov4 weights"
      ]
    },
    {
      "cell_type": "code",
      "execution_count": null,
      "metadata": {
        "colab": {
          "base_uri": "https://localhost:8080/"
        },
        "id": "M7lSJFGAJEcY",
        "outputId": "665167cc-6145-4b8d-b5f7-e6754d7d8988"
      },
      "outputs": [
        {
          "ename": "",
          "evalue": "",
          "output_type": "error",
          "traceback": [
            "\u001b[1;31mRunning cells with 'c:\\visual code\\c\\.vscode\\.conda\\python.exe' requires the ipykernel package.\n",
            "\u001b[1;31mRun the following command to install 'ipykernel' into the Python environment. \n",
            "\u001b[1;31mCommand: 'conda install -p c:\\visual code\\c\\.vscode\\.conda ipykernel --update-deps --force-reinstall'"
          ]
        }
      ],
      "source": [
        "!gdown https://raw.githubusercontent.com/Tianxiaomo/pytorch-YOLOv4/master/cfg/yolov4.cfg ##yolov4 cfg"
      ]
    },
    {
      "cell_type": "code",
      "execution_count": null,
      "metadata": {
        "colab": {
          "base_uri": "https://localhost:8080/"
        },
        "id": "RUawRy5aJL7i",
        "outputId": "ec4f8c90-1f74-4c7d-b819-1f40e408d7ae"
      },
      "outputs": [
        {
          "ename": "",
          "evalue": "",
          "output_type": "error",
          "traceback": [
            "\u001b[1;31mRunning cells with 'c:\\visual code\\c\\.vscode\\.conda\\python.exe' requires the ipykernel package.\n",
            "\u001b[1;31mRun the following command to install 'ipykernel' into the Python environment. \n",
            "\u001b[1;31mCommand: 'conda install -p c:\\visual code\\c\\.vscode\\.conda ipykernel --update-deps --force-reinstall'"
          ]
        }
      ],
      "source": [
        "!gdown https://raw.githubusercontent.com/pjreddie/darknet/master/data/coco.names ##coco names"
      ]
    },
    {
      "cell_type": "code",
      "execution_count": null,
      "metadata": {
        "colab": {
          "base_uri": "https://localhost:8080/",
          "height": 617
        },
        "id": "cjWMxDfTgWWP",
        "outputId": "499bd7fa-17c7-4154-a5d5-e33837c405f4"
      },
      "outputs": [
        {
          "ename": "",
          "evalue": "",
          "output_type": "error",
          "traceback": [
            "\u001b[1;31mRunning cells with 'c:\\visual code\\c\\.vscode\\.conda\\python.exe' requires the ipykernel package.\n",
            "\u001b[1;31mRun the following command to install 'ipykernel' into the Python environment. \n",
            "\u001b[1;31mCommand: 'conda install -p c:\\visual code\\c\\.vscode\\.conda ipykernel --update-deps --force-reinstall'"
          ]
        }
      ],
      "source": [
        "import cv2\n",
        "import time\n",
        "import numpy as np\n",
        "from google.colab.patches import cv2_imshow\n",
        "\n",
        "confidence = 0.6\n",
        "Nms= 0.3\n",
        "class_names = []\n",
        "with open(\"coco.names\", \"r\") as f:\n",
        "    class_names = [cname.strip() for cname in f.readlines()]\n",
        "\n",
        "img = cv2.imread(\"/content/1.jpg\")\n",
        "arc = cv2.dnn.readNet(\"yolov4.weights\", \"yolov4.cfg\")\n",
        "arc.setPreferableBackend(cv2.dnn.DNN_BACKEND_CUDA)\n",
        "arc.setPreferableTarget(cv2.dnn.DNN_TARGET_CUDA_FP16)\n",
        "model = cv2.dnn_DetectionModel(arc)\n",
        "model.setInputParams(size=(640, 640), scale=1/255, swapRB=True)\n",
        "\n",
        "x = time.time()\n",
        "classes, scores, boxes = model.detect(img, confidence, Nms)\n",
        "\n",
        "for (classid, score, box) in zip(classes, scores, boxes):\n",
        "    if class_names[classid[0]] == 'person':  # Check if the detected object is a person\n",
        "        label = \"%s : %.2f\" % (class_names[classid[0]], score)\n",
        "        cv2.rectangle(img, box, color=(255, 200, 10), thickness=2)\n",
        "        cv2.putText(img, label, (box[0], box[1] - 10), cv2.FONT_HERSHEY_SIMPLEX, 0.6, (25, 55, 255), 2)\n",
        "\n",
        "cv2_imshow(img)\n"
      ]
    }
  ],
  "metadata": {
    "accelerator": "GPU",
    "colab": {
      "gpuType": "T4",
      "provenance": []
    },
    "kernelspec": {
      "display_name": "Python 3",
      "name": "python3"
    },
    "language_info": {
      "name": "python",
      "version": "3.10.12"
    }
  },
  "nbformat": 4,
  "nbformat_minor": 0
}
